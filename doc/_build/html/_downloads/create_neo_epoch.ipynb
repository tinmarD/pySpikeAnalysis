{
  "cells": [
    {
      "cell_type": "code",
      "execution_count": null,
      "metadata": {
        "collapsed": false
      },
      "outputs": [],
      "source": [
        "%matplotlib inline"
      ]
    },
    {
      "cell_type": "markdown",
      "metadata": {},
      "source": [
        "\n# Neo Epoch - ex_0\n\n\nThis example shows how to create NeoEpoch\n\n\n"
      ]
    },
    {
      "cell_type": "code",
      "execution_count": null,
      "metadata": {
        "collapsed": false
      },
      "outputs": [],
      "source": [
        "from neoStructures import NeoAll, NeoEpoch\nimport numpy as np"
      ]
    },
    {
      "cell_type": "markdown",
      "metadata": {},
      "source": [
        "Replace the next variables with your paths\n\n"
      ]
    },
    {
      "cell_type": "code",
      "execution_count": null,
      "metadata": {
        "collapsed": false
      },
      "outputs": [],
      "source": [
        "spykingcircus_dirpath = r'C:\\Users\\deudon\\Desktop\\SpikeSorting\\_Data\\002RM_day4_pointes\\002RM_day4_pointes\\spykingcircus_results'\nresults_filename = r'20150325-103311-001_0'\nevent_filepath = r'C:\\Users\\deudon\\Desktop\\SpikeSorting\\_Data\\002RM_day4_pointes\\002RM_day4_pointes\\Events\\eventFile.csv'\nsignal_dirpath = r'C:\\Users\\deudon\\Desktop\\SpikeSorting\\_Data\\002RM_day4_pointes\\002RM_day4_pointes\\signal\\monopolaire_5kHz_d4_post_crise'\nprobe_filepath = r'C:\\Users\\deudon\\Desktop\\SpikeSorting\\_Data\\002RM_day4_pointes\\002RM_day4_pointes\\spykingcircus_paramfiles\\002_RM.prb'\nfigure_dirpath = r'C:\\Users\\deudon\\Desktop\\SpikeSorting\\_Data\\002RM_day4_pointes\\002RM_day4_pointes\\fig'\nartefact_csv_filepath = r'C:\\Users\\deudon\\Desktop\\SpikeSorting\\_Data\\002RM\\Artefact_EDF_reconstruction_d1.csv'"
      ]
    },
    {
      "cell_type": "markdown",
      "metadata": {},
      "source": [
        "Epoching parameters\n\n"
      ]
    },
    {
      "cell_type": "code",
      "execution_count": null,
      "metadata": {
        "collapsed": false
      },
      "outputs": [],
      "source": [
        "csv_delimiter = ';'\nt_pre, t_post = 1, 1\nt_max, srate = -1, 30000\nepoch_t_start = np.array([-0.500, -0.250, -0.050, 0.050, 0.250])\nepoch_duration = np.array([0.250, 0.200, 0.100, 0.200, 0.250])\nepoch_names = ['Pre-IED baseline', 'Pre-IED', 'IED', 'Slow wave', 'Post-IED']"
      ]
    },
    {
      "cell_type": "markdown",
      "metadata": {},
      "source": [
        "First create a NeoAll instance\n\n"
      ]
    },
    {
      "cell_type": "code",
      "execution_count": null,
      "metadata": {
        "collapsed": false
      },
      "outputs": [],
      "source": [
        "# neo_all = NeoAll(spykingcircus_dirpath, results_filename, probe_filepath, signal_dirpath=signal_dirpath,\n#                 event_filepath=event_filepath, fig_dirpath=figure_dirpath, save_fig=1)"
      ]
    },
    {
      "cell_type": "markdown",
      "metadata": {},
      "source": [
        "And create the NeoEpoch instance\n\n"
      ]
    },
    {
      "cell_type": "code",
      "execution_count": null,
      "metadata": {
        "collapsed": false
      },
      "outputs": [],
      "source": [
        "# neo_epoch = NeoEpoch(neo_all, event_filepath=event_filepath, time_pre=0.3, time_post=0.3)\n# print(neo_epoch)"
      ]
    },
    {
      "cell_type": "markdown",
      "metadata": {},
      "source": [
        "You can save it with the save method :\n\n"
      ]
    },
    {
      "cell_type": "code",
      "execution_count": null,
      "metadata": {
        "collapsed": false
      },
      "outputs": [],
      "source": [
        "# neo_epoch.save(r'C:\\Users\\deudon\\Desktop\\SpikeSorting\\_Scripts\\_Python\\pySpikeAnalysis\\pySpikeAnalysis\\sample_data')"
      ]
    }
  ],
  "metadata": {
    "kernelspec": {
      "display_name": "Python 3",
      "language": "python",
      "name": "python3"
    },
    "language_info": {
      "codemirror_mode": {
        "name": "ipython",
        "version": 3
      },
      "file_extension": ".py",
      "mimetype": "text/x-python",
      "name": "python",
      "nbconvert_exporter": "python",
      "pygments_lexer": "ipython3",
      "version": "3.6.5"
    }
  },
  "nbformat": 4,
  "nbformat_minor": 0
}